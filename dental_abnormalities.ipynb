{
 "cells": [
  {
   "cell_type": "code",
   "execution_count": 2,
   "metadata": {},
   "outputs": [],
   "source": [
    "import pandas as pd\n",
    "from oaklib import get_adapter\n",
    "from oaklib.implementations.ubergraph.ubergraph_implementation import UbergraphImplementation"
   ]
  },
  {
   "cell_type": "markdown",
   "source": [
    "# Get all HP terms that are a subclass of dental anomaly using UberGraph"
   ],
   "metadata": {
    "collapsed": false
   }
  },
  {
   "cell_type": "code",
   "execution_count": 3,
   "metadata": {
    "collapsed": false,
    "jupyter": {
     "outputs_hidden": false
    }
   },
   "outputs": [],
   "source": [
    "foi = UbergraphImplementation()"
   ]
  },
  {
   "cell_type": "code",
   "execution_count": 4,
   "metadata": {
    "collapsed": false,
    "jupyter": {
     "outputs_hidden": false
    }
   },
   "outputs": [
    {
     "name": "stderr",
     "output_type": "stream",
     "text": [
      "WARNING:root:Auto-adding limit\n",
      "Query has no LIMIT clause: SELECT ?hp WHERE {?hp rdfs:subClassOf* <http://purl.obolibrary.org/obo/HP_0011061>.} LIMIT 100\n"
     ]
    }
   ],
   "source": [
    "dental_subtree = [x['hp'] for x in list(foi.query('SELECT ?hp WHERE {?hp rdfs:subClassOf* <http://purl.obolibrary.org/obo/HP_0011061>.}'))]"
   ]
  },
  {
   "cell_type": "markdown",
   "source": [
    "# Get the Monarch KG"
   ],
   "metadata": {
    "collapsed": false
   }
  },
  {
   "cell_type": "code",
   "execution_count": 4,
   "metadata": {},
   "outputs": [
    {
     "name": "stdout",
     "output_type": "stream",
     "text": [
      "--2023-09-11 22:15:12--  https://data.monarchinitiative.org/monarch-kg-dev/latest/monarch-kg.tar.gz\n",
      "Resolving data.monarchinitiative.org (data.monarchinitiative.org)... 35.208.191.193\n",
      "Connecting to data.monarchinitiative.org (data.monarchinitiative.org)|35.208.191.193|:443... connected.\n",
      "HTTP request sent, awaiting response... 200 OK\n",
      "Length: 111339995 (106M) [application/x-tar]\n",
      "Saving to: ‘monarch-kg.tar.gz’\n",
      "\n",
      "monarch-kg.tar.gz   100%[===================>] 106.18M  27.1MB/s    in 4.1s    \n",
      "\n",
      "2023-09-11 22:15:16 (26.1 MB/s) - ‘monarch-kg.tar.gz’ saved [111339995/111339995]\n",
      "\n",
      "x monarch-kg_nodes.tsv\n",
      "x monarch-kg_edges.tsv\n"
     ]
    }
   ],
   "source": [
    "!wget https://data.monarchinitiative.org/monarch-kg-dev/latest/monarch-kg.tar.gz\n",
    "!gunzip monarch-kg.tar.gz\n",
    "!tar -xvzf monarch-kg.tar"
   ]
  },
  {
   "cell_type": "code",
   "execution_count": 5,
   "metadata": {
    "collapsed": false,
    "jupyter": {
     "outputs_hidden": false
    }
   },
   "outputs": [],
   "source": [
    "edges = pd.read_csv('monarch-kg_edges.tsv', sep='\\t', dtype=str)"
   ]
  },
  {
   "cell_type": "code",
   "execution_count": 13,
   "outputs": [],
   "source": [
    "nodes = pd.read_csv('monarch-kg_nodes.tsv', sep='\\t', dtype=str)"
   ],
   "metadata": {
    "collapsed": false
   }
  },
  {
   "cell_type": "code",
   "execution_count": 20,
   "outputs": [],
   "source": [
    "node_label_map = dict(zip(nodes['id'], nodes['name']))\n",
    "edges['subject_label'] = edges['subject'].apply(lambda x: node_label_map[x])\n",
    "edges['object_label'] = edges['object'].apply(lambda x: node_label_map[x])"
   ],
   "metadata": {
    "collapsed": false
   }
  },
  {
   "cell_type": "markdown",
   "source": [
    "# Get all disease to phenotype associations that are a subclass of dental anomaly"
   ],
   "metadata": {
    "collapsed": false
   }
  },
  {
   "cell_type": "code",
   "execution_count": 21,
   "metadata": {},
   "outputs": [],
   "source": [
    "dental_d2p = edges[\n",
    "    (edges['category'] == 'biolink:DiseaseToPhenotypicFeatureAssociation') &\n",
    "    (edges['subject'].str.contains(\"MONDO\")) &\n",
    "    (edges['object'].isin(dental_subtree))\n",
    "]"
   ]
  },
  {
   "cell_type": "markdown",
   "source": [
    "# Show the dental phenotype associated diseases."
   ],
   "metadata": {
    "collapsed": false
   }
  },
  {
   "cell_type": "code",
   "execution_count": 22,
   "outputs": [
    {
     "data": {
      "text/plain": "subject_label\nregional odontodysplasia                                               13\namelogenesis imperfecta                                                 9\ndentinogenesis imperfecta                                               8\notodental syndrome                                                      8\noculodentodigital dysplasia                                             6\n                                                                       ..\nneurodevelopmental disorder with hypotonia and dysmorphic facies        1\nectodermal dysplasia-cutaneous syndactyly syndrome                      1\ntuberous sclerosis 1                                                    1\nshort-rib thoracic dysplasia 16 with or without polydactyly             1\nectrodactyly, ectodermal dysplasia, and cleft lip-palate syndrome 3     1\nName: count, Length: 375, dtype: int64"
     },
     "execution_count": 22,
     "metadata": {},
     "output_type": "execute_result"
    }
   ],
   "source": [
    "dental_d2p['subject_label'].value_counts()"
   ],
   "metadata": {
    "collapsed": false
   }
  },
  {
   "cell_type": "markdown",
   "source": [
    "# Get all the d2p associations for the above diseases (including non-dental abnormalities)"
   ],
   "metadata": {
    "collapsed": false
   }
  },
  {
   "cell_type": "code",
   "execution_count": 25,
   "outputs": [],
   "source": [
    "dental_abnormality_d2p_associations = edges[edges['subject'].isin(dental_d2p['subject'].tolist())]"
   ],
   "metadata": {
    "collapsed": false
   }
  },
  {
   "cell_type": "code",
   "execution_count": 27,
   "outputs": [
    {
     "data": {
      "text/plain": "                                             subject_label  \\\n15142                      cerebrocostomandibular syndrome   \n15143                      cerebrocostomandibular syndrome   \n15144                      cerebrocostomandibular syndrome   \n15145                      cerebrocostomandibular syndrome   \n15146                      cerebrocostomandibular syndrome   \n...                                                    ...   \n5222088                                   AREDYLD syndrome   \n5222094  combined immunodeficiency due to STIM1 deficiency   \n5222122  tumoral calcinosis, hyperphosphatemic, familia...   \n5222198                       tooth agenesis, selective, 7   \n5222230               anonychia with flexural pigmentation   \n\n                                  object_label  \n15142                      Anal stenosis (HPO)  \n15143                         Epicanthus (HPO)  \n15144         Congenital hip dislocation (HPO)  \n15145                Thoracic hypoplasia (HPO)  \n15146                     Ectopic kidney (HPO)  \n...                                        ...  \n5222088  Autosomal recessive inheritance (HPO)  \n5222094  Autosomal recessive inheritance (HPO)  \n5222122  Autosomal recessive inheritance (HPO)  \n5222198   Autosomal dominant inheritance (HPO)  \n5222230   Autosomal dominant inheritance (HPO)  \n\n[19775 rows x 2 columns]",
      "text/html": "<div>\n<style scoped>\n    .dataframe tbody tr th:only-of-type {\n        vertical-align: middle;\n    }\n\n    .dataframe tbody tr th {\n        vertical-align: top;\n    }\n\n    .dataframe thead th {\n        text-align: right;\n    }\n</style>\n<table border=\"1\" class=\"dataframe\">\n  <thead>\n    <tr style=\"text-align: right;\">\n      <th></th>\n      <th>subject_label</th>\n      <th>object_label</th>\n    </tr>\n  </thead>\n  <tbody>\n    <tr>\n      <th>15142</th>\n      <td>cerebrocostomandibular syndrome</td>\n      <td>Anal stenosis (HPO)</td>\n    </tr>\n    <tr>\n      <th>15143</th>\n      <td>cerebrocostomandibular syndrome</td>\n      <td>Epicanthus (HPO)</td>\n    </tr>\n    <tr>\n      <th>15144</th>\n      <td>cerebrocostomandibular syndrome</td>\n      <td>Congenital hip dislocation (HPO)</td>\n    </tr>\n    <tr>\n      <th>15145</th>\n      <td>cerebrocostomandibular syndrome</td>\n      <td>Thoracic hypoplasia (HPO)</td>\n    </tr>\n    <tr>\n      <th>15146</th>\n      <td>cerebrocostomandibular syndrome</td>\n      <td>Ectopic kidney (HPO)</td>\n    </tr>\n    <tr>\n      <th>...</th>\n      <td>...</td>\n      <td>...</td>\n    </tr>\n    <tr>\n      <th>5222088</th>\n      <td>AREDYLD syndrome</td>\n      <td>Autosomal recessive inheritance (HPO)</td>\n    </tr>\n    <tr>\n      <th>5222094</th>\n      <td>combined immunodeficiency due to STIM1 deficiency</td>\n      <td>Autosomal recessive inheritance (HPO)</td>\n    </tr>\n    <tr>\n      <th>5222122</th>\n      <td>tumoral calcinosis, hyperphosphatemic, familia...</td>\n      <td>Autosomal recessive inheritance (HPO)</td>\n    </tr>\n    <tr>\n      <th>5222198</th>\n      <td>tooth agenesis, selective, 7</td>\n      <td>Autosomal dominant inheritance (HPO)</td>\n    </tr>\n    <tr>\n      <th>5222230</th>\n      <td>anonychia with flexural pigmentation</td>\n      <td>Autosomal dominant inheritance (HPO)</td>\n    </tr>\n  </tbody>\n</table>\n<p>19775 rows × 2 columns</p>\n</div>"
     },
     "execution_count": 27,
     "metadata": {},
     "output_type": "execute_result"
    }
   ],
   "source": [
    "dental_abnormality_d2p_associations[['subject_label', 'object_label']]"
   ],
   "metadata": {
    "collapsed": false
   }
  },
  {
   "cell_type": "code",
   "execution_count": null,
   "outputs": [],
   "source": [],
   "metadata": {
    "collapsed": false
   }
  }
 ],
 "metadata": {
  "kernelspec": {
   "display_name": "Python 3 (ipykernel)",
   "language": "python",
   "name": "python3"
  },
  "language_info": {
   "codemirror_mode": {
    "name": "ipython",
    "version": 3
   },
   "file_extension": ".py",
   "mimetype": "text/x-python",
   "name": "python",
   "nbconvert_exporter": "python",
   "pygments_lexer": "ipython3",
   "version": "3.9.6"
  }
 },
 "nbformat": 4,
 "nbformat_minor": 4
}
