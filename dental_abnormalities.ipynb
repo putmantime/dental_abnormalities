{
 "cells": [
  {
   "cell_type": "code",
   "execution_count": 1,
   "metadata": {
    "ExecuteTime": {
     "end_time": "2023-09-14T13:20:32.970855Z",
     "start_time": "2023-09-14T13:20:23.274845Z"
    }
   },
   "outputs": [],
   "source": [
    "import pandas as pd\n",
    "from oaklib import get_adapter\n",
    "from oaklib.implementations.ubergraph.ubergraph_implementation import UbergraphImplementation"
   ]
  },
  {
   "cell_type": "markdown",
   "source": [
    "# Get all HP terms that are a subclass of dental abnormality using UberGraph"
   ],
   "metadata": {
    "collapsed": false
   }
  },
  {
   "cell_type": "code",
   "execution_count": 2,
   "metadata": {
    "collapsed": false,
    "ExecuteTime": {
     "end_time": "2023-09-14T13:20:32.990770Z",
     "start_time": "2023-09-14T13:20:32.941031Z"
    }
   },
   "outputs": [],
   "source": [
    "foi = UbergraphImplementation()"
   ]
  },
  {
   "cell_type": "code",
   "execution_count": 13,
   "metadata": {
    "collapsed": false,
    "ExecuteTime": {
     "end_time": "2023-09-14T13:26:55.549079Z",
     "start_time": "2023-09-14T13:26:54.393363Z"
    }
   },
   "outputs": [
    {
     "name": "stderr",
     "output_type": "stream",
     "text": [
      "WARNING:root:Auto-adding limit\n",
      "Query has no LIMIT clause: SELECT ?hp WHERE {?hp rdfs:subClassOf* <http://purl.obolibrary.org/obo/HP_0000164>.} LIMIT 100\n"
     ]
    }
   ],
   "source": [
    "dental_subtree = [x['hp'] for x in list(foi.query('SELECT ?hp WHERE {?hp rdfs:subClassOf* <http://purl.obolibrary.org/obo/HP_0000164>.}'))]"
   ]
  },
  {
   "cell_type": "markdown",
   "source": [
    "# Get the Monarch KG"
   ],
   "metadata": {
    "collapsed": false
   }
  },
  {
   "cell_type": "code",
   "execution_count": 14,
   "metadata": {
    "ExecuteTime": {
     "end_time": "2023-09-14T13:29:47.794061Z",
     "start_time": "2023-09-14T13:27:01.234279Z"
    }
   },
   "outputs": [
    {
     "name": "stdout",
     "output_type": "stream",
     "text": [
      "--2023-09-14 06:27:01--  https://data.monarchinitiative.org/monarch-kg-dev/latest/monarch-kg.tar.gz\r\n",
      "Resolving data.monarchinitiative.org (data.monarchinitiative.org)... 35.208.191.193\r\n",
      "Connecting to data.monarchinitiative.org (data.monarchinitiative.org)|35.208.191.193|:443... connected.\r\n",
      "HTTP request sent, awaiting response... 200 OK\r\n",
      "Length: 111339995 (106M) [application/x-tar]\r\n",
      "Saving to: ‘monarch-kg.tar.gz’\r\n",
      "\r\n",
      "monarch-kg.tar.gz   100%[===================>] 106.18M  30.3MB/s    in 3.8s    \r\n",
      "\r\n",
      "2023-09-14 06:27:05 (27.7 MB/s) - ‘monarch-kg.tar.gz’ saved [111339995/111339995]\r\n",
      "\r\n",
      "monarch-kg.tar already exists -- do you wish to overwrite (y or n)? ^C\r\n",
      "x monarch-kg_nodes.tsv\r\n",
      "x monarch-kg_edges.tsv\r\n"
     ]
    }
   ],
   "source": [
    "!wget https://data.monarchinitiative.org/monarch-kg-dev/latest/monarch-kg.tar.gz\n",
    "!gunzip monarch-kg.tar.gz\n",
    "!tar -xvzf monarch-kg.tar"
   ]
  },
  {
   "cell_type": "code",
   "execution_count": 16,
   "metadata": {
    "collapsed": false,
    "ExecuteTime": {
     "end_time": "2023-09-14T13:30:27.037680Z",
     "start_time": "2023-09-14T13:29:59.639239Z"
    }
   },
   "outputs": [],
   "source": [
    "edges = pd.read_csv('monarch-kg_edges.tsv', sep='\\t', dtype=str)"
   ]
  },
  {
   "cell_type": "code",
   "execution_count": 17,
   "outputs": [],
   "source": [
    "nodes = pd.read_csv('monarch-kg_nodes.tsv', sep='\\t', dtype=str)"
   ],
   "metadata": {
    "collapsed": false,
    "ExecuteTime": {
     "end_time": "2023-09-14T13:30:31.561249Z",
     "start_time": "2023-09-14T13:30:27.038380Z"
    }
   }
  },
  {
   "cell_type": "code",
   "execution_count": 18,
   "outputs": [],
   "source": [
    "node_label_map = dict(zip(nodes['id'], nodes['name']))\n",
    "edges['subject_label'] = edges['subject'].apply(lambda x: node_label_map[x])\n",
    "edges['object_label'] = edges['object'].apply(lambda x: node_label_map[x])"
   ],
   "metadata": {
    "collapsed": false,
    "ExecuteTime": {
     "end_time": "2023-09-14T13:30:35.876896Z",
     "start_time": "2023-09-14T13:30:31.981579Z"
    }
   }
  },
  {
   "cell_type": "markdown",
   "source": [
    "# Get all disease to phenotype associations that are a subclass of dental anomaly"
   ],
   "metadata": {
    "collapsed": false
   }
  },
  {
   "cell_type": "code",
   "execution_count": 19,
   "metadata": {
    "ExecuteTime": {
     "end_time": "2023-09-14T13:30:38.910175Z",
     "start_time": "2023-09-14T13:30:35.874050Z"
    }
   },
   "outputs": [],
   "source": [
    "dental_d2p = edges[\n",
    "    (edges['category'] == 'biolink:DiseaseToPhenotypicFeatureAssociation') &\n",
    "    (edges['subject'].str.contains(\"MONDO\")) &\n",
    "    (edges['object'].isin(dental_subtree))\n",
    "]"
   ]
  },
  {
   "cell_type": "markdown",
   "source": [
    "# Show the dental phenotype associated diseases."
   ],
   "metadata": {
    "collapsed": false
   }
  },
  {
   "cell_type": "code",
   "execution_count": 20,
   "outputs": [
    {
     "data": {
      "text/plain": "                                            subject_label        subject\n15180                     cerebrocostomandibular syndrome  MONDO:0007301\n15241                            van Maldergem syndrome 2  MONDO:0014242\n15602   neurodevelopmental disorder with absent speech...  MONDO:0859519\n15743            ectodermal dysplasia 13, hair/tooth type  MONDO:0044305\n16014   mandibulofacial dysostosis-macroblepharon-macr...  MONDO:0011255\n...                                                   ...            ...\n254530  Ehlers-Danlos syndrome, spondylodysplastic typ...  MONDO:0014139\n254621  autosomal recessive cutis laxa type 2, classic...  MONDO:0009054\n254978              acrofacial dysostosis, Palagonia type  MONDO:0011154\n255042                              Usher syndrome type 1  MONDO:0010168\n255232                             dyskeratosis congenita  MONDO:0015780\n\n[1244 rows x 2 columns]",
      "text/html": "<div>\n<style scoped>\n    .dataframe tbody tr th:only-of-type {\n        vertical-align: middle;\n    }\n\n    .dataframe tbody tr th {\n        vertical-align: top;\n    }\n\n    .dataframe thead th {\n        text-align: right;\n    }\n</style>\n<table border=\"1\" class=\"dataframe\">\n  <thead>\n    <tr style=\"text-align: right;\">\n      <th></th>\n      <th>subject_label</th>\n      <th>subject</th>\n    </tr>\n  </thead>\n  <tbody>\n    <tr>\n      <th>15180</th>\n      <td>cerebrocostomandibular syndrome</td>\n      <td>MONDO:0007301</td>\n    </tr>\n    <tr>\n      <th>15241</th>\n      <td>van Maldergem syndrome 2</td>\n      <td>MONDO:0014242</td>\n    </tr>\n    <tr>\n      <th>15602</th>\n      <td>neurodevelopmental disorder with absent speech...</td>\n      <td>MONDO:0859519</td>\n    </tr>\n    <tr>\n      <th>15743</th>\n      <td>ectodermal dysplasia 13, hair/tooth type</td>\n      <td>MONDO:0044305</td>\n    </tr>\n    <tr>\n      <th>16014</th>\n      <td>mandibulofacial dysostosis-macroblepharon-macr...</td>\n      <td>MONDO:0011255</td>\n    </tr>\n    <tr>\n      <th>...</th>\n      <td>...</td>\n      <td>...</td>\n    </tr>\n    <tr>\n      <th>254530</th>\n      <td>Ehlers-Danlos syndrome, spondylodysplastic typ...</td>\n      <td>MONDO:0014139</td>\n    </tr>\n    <tr>\n      <th>254621</th>\n      <td>autosomal recessive cutis laxa type 2, classic...</td>\n      <td>MONDO:0009054</td>\n    </tr>\n    <tr>\n      <th>254978</th>\n      <td>acrofacial dysostosis, Palagonia type</td>\n      <td>MONDO:0011154</td>\n    </tr>\n    <tr>\n      <th>255042</th>\n      <td>Usher syndrome type 1</td>\n      <td>MONDO:0010168</td>\n    </tr>\n    <tr>\n      <th>255232</th>\n      <td>dyskeratosis congenita</td>\n      <td>MONDO:0015780</td>\n    </tr>\n  </tbody>\n</table>\n<p>1244 rows × 2 columns</p>\n</div>"
     },
     "execution_count": 20,
     "metadata": {},
     "output_type": "execute_result"
    }
   ],
   "source": [
    "dental_d2p[['subject_label', 'subject']].drop_duplicates()"
   ],
   "metadata": {
    "collapsed": false,
    "ExecuteTime": {
     "end_time": "2023-09-14T13:30:38.933827Z",
     "start_time": "2023-09-14T13:30:38.912759Z"
    }
   }
  },
  {
   "cell_type": "code",
   "execution_count": 21,
   "outputs": [],
   "source": [
    "dental_d2p[['subject_label', 'subject']].drop_duplicates().to_csv(\"dental_diseases.tsv\", sep=\"\\t\", index=False)"
   ],
   "metadata": {
    "collapsed": false,
    "ExecuteTime": {
     "end_time": "2023-09-14T13:30:38.957098Z",
     "start_time": "2023-09-14T13:30:38.927658Z"
    }
   }
  },
  {
   "cell_type": "markdown",
   "source": [
    "# Get all the d2p associations for the above diseases (including non-dental abnormalities)"
   ],
   "metadata": {
    "collapsed": false
   }
  },
  {
   "cell_type": "code",
   "execution_count": 22,
   "outputs": [],
   "source": [
    "dental_abnormality_d2p_associations = edges[edges['subject'].isin(dental_d2p['subject'].tolist())]"
   ],
   "metadata": {
    "collapsed": false,
    "ExecuteTime": {
     "end_time": "2023-09-14T13:30:39.149381Z",
     "start_time": "2023-09-14T13:30:39.104507Z"
    }
   }
  },
  {
   "cell_type": "code",
   "execution_count": 23,
   "outputs": [
    {
     "data": {
      "text/plain": "                                     subject_label  \\\n15142              cerebrocostomandibular syndrome   \n15143              cerebrocostomandibular syndrome   \n15144              cerebrocostomandibular syndrome   \n15145              cerebrocostomandibular syndrome   \n15146              cerebrocostomandibular syndrome   \n...                                            ...   \n5222217                auriculocondylar syndrome 2   \n5222218                auriculocondylar syndrome 2   \n5222221  lethal acantholytic epidermolysis bullosa   \n5222222                   bardet-biedl syndrome 21   \n5222230       anonychia with flexural pigmentation   \n\n                                  object_label  \n15142                      Anal stenosis (HPO)  \n15143                         Epicanthus (HPO)  \n15144         Congenital hip dislocation (HPO)  \n15145                Thoracic hypoplasia (HPO)  \n15146                     Ectopic kidney (HPO)  \n...                                        ...  \n5222217  Autosomal recessive inheritance (HPO)  \n5222218   Autosomal dominant inheritance (HPO)  \n5222221  Autosomal recessive inheritance (HPO)  \n5222222  Autosomal recessive inheritance (HPO)  \n5222230   Autosomal dominant inheritance (HPO)  \n\n[64970 rows x 2 columns]",
      "text/html": "<div>\n<style scoped>\n    .dataframe tbody tr th:only-of-type {\n        vertical-align: middle;\n    }\n\n    .dataframe tbody tr th {\n        vertical-align: top;\n    }\n\n    .dataframe thead th {\n        text-align: right;\n    }\n</style>\n<table border=\"1\" class=\"dataframe\">\n  <thead>\n    <tr style=\"text-align: right;\">\n      <th></th>\n      <th>subject_label</th>\n      <th>object_label</th>\n    </tr>\n  </thead>\n  <tbody>\n    <tr>\n      <th>15142</th>\n      <td>cerebrocostomandibular syndrome</td>\n      <td>Anal stenosis (HPO)</td>\n    </tr>\n    <tr>\n      <th>15143</th>\n      <td>cerebrocostomandibular syndrome</td>\n      <td>Epicanthus (HPO)</td>\n    </tr>\n    <tr>\n      <th>15144</th>\n      <td>cerebrocostomandibular syndrome</td>\n      <td>Congenital hip dislocation (HPO)</td>\n    </tr>\n    <tr>\n      <th>15145</th>\n      <td>cerebrocostomandibular syndrome</td>\n      <td>Thoracic hypoplasia (HPO)</td>\n    </tr>\n    <tr>\n      <th>15146</th>\n      <td>cerebrocostomandibular syndrome</td>\n      <td>Ectopic kidney (HPO)</td>\n    </tr>\n    <tr>\n      <th>...</th>\n      <td>...</td>\n      <td>...</td>\n    </tr>\n    <tr>\n      <th>5222217</th>\n      <td>auriculocondylar syndrome 2</td>\n      <td>Autosomal recessive inheritance (HPO)</td>\n    </tr>\n    <tr>\n      <th>5222218</th>\n      <td>auriculocondylar syndrome 2</td>\n      <td>Autosomal dominant inheritance (HPO)</td>\n    </tr>\n    <tr>\n      <th>5222221</th>\n      <td>lethal acantholytic epidermolysis bullosa</td>\n      <td>Autosomal recessive inheritance (HPO)</td>\n    </tr>\n    <tr>\n      <th>5222222</th>\n      <td>bardet-biedl syndrome 21</td>\n      <td>Autosomal recessive inheritance (HPO)</td>\n    </tr>\n    <tr>\n      <th>5222230</th>\n      <td>anonychia with flexural pigmentation</td>\n      <td>Autosomal dominant inheritance (HPO)</td>\n    </tr>\n  </tbody>\n</table>\n<p>64970 rows × 2 columns</p>\n</div>"
     },
     "execution_count": 23,
     "metadata": {},
     "output_type": "execute_result"
    }
   ],
   "source": [
    "dental_abnormality_d2p_associations[['subject_label', 'object_label']]"
   ],
   "metadata": {
    "collapsed": false,
    "ExecuteTime": {
     "end_time": "2023-09-14T13:30:39.150324Z",
     "start_time": "2023-09-14T13:30:39.133964Z"
    }
   }
  },
  {
   "cell_type": "code",
   "execution_count": 24,
   "outputs": [],
   "source": [
    "edges['category'].value_counts().reset_index().to_csv('category_counts.tsv', sep=\"\\t\", index=False)"
   ],
   "metadata": {
    "collapsed": false,
    "ExecuteTime": {
     "end_time": "2023-09-14T13:30:39.562433Z",
     "start_time": "2023-09-14T13:30:39.556249Z"
    }
   }
  },
  {
   "cell_type": "code",
   "execution_count": null,
   "outputs": [],
   "source": [],
   "metadata": {
    "collapsed": false,
    "ExecuteTime": {
     "start_time": "2023-09-14T13:29:52.474225Z"
    }
   }
  },
  {
   "cell_type": "code",
   "execution_count": null,
   "outputs": [],
   "source": [],
   "metadata": {
    "collapsed": false
   }
  }
 ],
 "metadata": {
  "kernelspec": {
   "display_name": "Python 3 (ipykernel)",
   "language": "python",
   "name": "python3"
  },
  "language_info": {
   "codemirror_mode": {
    "name": "ipython",
    "version": 3
   },
   "file_extension": ".py",
   "mimetype": "text/x-python",
   "name": "python",
   "nbconvert_exporter": "python",
   "pygments_lexer": "ipython3",
   "version": "3.9.6"
  }
 },
 "nbformat": 4,
 "nbformat_minor": 4
}
